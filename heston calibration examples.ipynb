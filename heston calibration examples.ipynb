{
 "cells": [
  {
   "cell_type": "code",
   "execution_count": 1,
   "id": "9eb2e1fc",
   "metadata": {},
   "outputs": [],
   "source": [
    "from sabr import SABR\n",
    "from sabr_calibration import SABRCalibrator\n",
    "\n",
    "from heston import Heston\n",
    "from heston_calibration import HestonCalibrator\n",
    "\n",
    "import numpy as np\n",
    "from matplotlib import pyplot as plt"
   ]
  },
  {
   "cell_type": "code",
   "execution_count": 2,
   "id": "7e56688d",
   "metadata": {},
   "outputs": [],
   "source": [
    "#Option parameters:\n",
    "\n",
    "F = 91.4\n",
    "K = F\n",
    "\n",
    "T = 2.0\n",
    "\n",
    "r = 0.0\n",
    "\n",
    "Nk = 15\n",
    "\n",
    "Kn = K * np.linspace(0.5, 1.5, Nk)\n",
    "\n",
    "Nt = 3\n",
    "\n",
    "Tn = np.linspace(0.4, 1.0, Nt) * T\n",
    "\n",
    "Kmesh, Tmesh = np.meshgrid(Kn, Tn)\n",
    "\n",
    "Kmesh = Kmesh.reshape(-1)\n",
    "Tmesh = Tmesh.reshape(-1)"
   ]
  },
  {
   "cell_type": "code",
   "execution_count": 3,
   "id": "fd90b547",
   "metadata": {},
   "outputs": [],
   "source": [
    "from heston_calibration import gen_random_heston_params"
   ]
  },
  {
   "cell_type": "code",
   "execution_count": 4,
   "id": "e7b3c259",
   "metadata": {},
   "outputs": [],
   "source": [
    "#heston parameters\n",
    "v_0 = 0.01\n",
    "theta = 0.02\n",
    "rho = -0.1\n",
    "k = 2.0\n",
    "sigma = 0.23\n",
    "\n",
    "heston_params = np.asarray([v_0, theta, rho, k, sigma])"
   ]
  },
  {
   "cell_type": "code",
   "execution_count": 5,
   "id": "a6b26420",
   "metadata": {},
   "outputs": [],
   "source": [
    "heston = Heston(heston_params, r, 200)\n",
    "\n",
    "ch, ivh = heston(Kmesh, F, Tmesh)"
   ]
  },
  {
   "cell_type": "code",
   "execution_count": 6,
   "id": "3d5dc7f9",
   "metadata": {},
   "outputs": [],
   "source": [
    "plt.figure(figsize=(15, 8))\n",
    "ax1 = plt.subplot(2, 2, 1)\n",
    "ax1.plot(Kn, np.maximum(0, F - Kn), '-k', label='payoff')\n",
    "for t in Tn:\n",
    "    i = Tmesh == t\n",
    "    ax1 = plt.subplot(2, 2, 1)\n",
    "    ax1.plot(Kmesh[i], ch[i], label=f'T = {t}')\n",
    "    ax1.grid()\n",
    "    ax1.set_title(\"Heston option price\", fontsize=15)\n",
    "    ax1.set_xlabel(\"strike\", fontsize=12)\n",
    "    ax1.legend()\n",
    "\n",
    "    ax2 = plt.subplot(2, 2, 2)\n",
    "    ax2.plot(Kmesh[i], ivh[i], label=f'T = {t}')\n",
    "    ax2.grid()\n",
    "    ax2.set_title(\"Heston IV\", fontsize=15)\n",
    "    ax2.set_xlabel(\"strike\", fontsize=12)\n",
    "    ax2.legend()\n",
    "None"
   ]
  },
  {
   "cell_type": "markdown",
   "id": "3b006af8",
   "metadata": {},
   "source": [
    "### Calibration to heston data"
   ]
  },
  {
   "cell_type": "code",
   "execution_count": 7,
   "id": "30d43f98",
   "metadata": {},
   "outputs": [],
   "source": [
    "heston_calib = HestonCalibrator(interest_rate=r, n_dim=1, n_int=200)"
   ]
  },
  {
   "cell_type": "code",
   "execution_count": 8,
   "id": "6af9dffa",
   "metadata": {},
   "outputs": [
    {
     "name": "stderr",
     "output_type": "stream",
     "text": [
      " 42%|████▏     | 25/60 [00:00<00:00, 60.97it/s]\n"
     ]
    }
   ],
   "source": [
    "#calibrating sabr to heston\n",
    "fs = heston_calib.fit(ch, Kmesh, F, Tmesh, Niter=60, typ=True)"
   ]
  },
  {
   "cell_type": "code",
   "execution_count": 9,
   "id": "191e6cd6",
   "metadata": {},
   "outputs": [],
   "source": [
    "#plot result\n",
    "plt.figure(figsize=(10, 5))\n",
    "plt.semilogy(fs, '-o')\n",
    "plt.title(\"Error\", fontsize=15)\n",
    "plt.xlabel(\"Niter\", fontsize=12)\n",
    "plt.grid()"
   ]
  },
  {
   "cell_type": "code",
   "execution_count": 10,
   "id": "093bdd00",
   "metadata": {},
   "outputs": [
    {
     "name": "stdout",
     "output_type": "stream",
     "text": [
      "\tinitial\t \tcalibrated\n",
      "v_0:\t0.0100\t\t0.0100\n",
      "theta:\t0.0200\t\t0.0200\n",
      "rho:\t-0.1000\t\t-0.1000\n",
      "k:\t2.0000\t\t2.0000\n",
      "sigma:\t0.2300\t\t0.2300\n"
     ]
    }
   ],
   "source": [
    "names = [\"v_0\", \"theta\", \"rho\", \"k\", \"sigma\"] * (len(heston_params) // 5)\n",
    "\n",
    "print('\\tinitial\\t \\tcalibrated')\n",
    "for name, param_0, param in zip(names, heston_params, heston_calib.heston_params):\n",
    "    print(f\"{name}:\\t{param_0:.4f}\\t\\t{param:.4f}\")"
   ]
  },
  {
   "cell_type": "markdown",
   "id": "08d277be",
   "metadata": {},
   "source": [
    "## Calibration to sabr"
   ]
  },
  {
   "cell_type": "code",
   "execution_count": 11,
   "id": "424bd7ba",
   "metadata": {},
   "outputs": [],
   "source": [
    "#sabr model parameters\n",
    "alpha = 1.9\n",
    "v = 0.9\n",
    "beta = 0.5\n",
    "rho = 0.5\n",
    "\n",
    "sabr_params = np.asarray([alpha, v, beta, rho])\n",
    "\n",
    "#sabr model\n",
    "sabr = SABR(sabr_params, r)\n",
    "\n",
    "cs, ivs = sabr( Kmesh, F + 1e-10, Tmesh )"
   ]
  },
  {
   "cell_type": "code",
   "execution_count": 12,
   "id": "a596d68d",
   "metadata": {},
   "outputs": [
    {
     "data": {
      "text/plain": [
       "array([ 0.01,  0.02, -0.1 ,  2.  ,  0.23])"
      ]
     },
     "execution_count": 12,
     "metadata": {},
     "output_type": "execute_result"
    }
   ],
   "source": [
    "heston_params"
   ]
  },
  {
   "cell_type": "code",
   "execution_count": 13,
   "id": "a7aa1bc2",
   "metadata": {},
   "outputs": [],
   "source": [
    "plt.figure(figsize=(15, 8))\n",
    "ax1 = plt.subplot(2, 2, 1)\n",
    "ax1.plot(Kn, np.maximum(0, F - Kn), '-k', label='payoff')\n",
    "for t in Tn:\n",
    "    i = Tmesh == t\n",
    "    ax1 = plt.subplot(2, 2, 1)\n",
    "    ax1.plot(Kmesh[i], cs[i], label=f'T = {t}')\n",
    "    ax1.grid()\n",
    "    ax1.set_title(\"SABR option price\", fontsize=15)\n",
    "    ax1.set_xlabel(\"strike\", fontsize=12)\n",
    "    ax1.legend()\n",
    "\n",
    "    ax2 = plt.subplot(2, 2, 2)\n",
    "    ax2.plot(Kmesh[i], ivs[i], label=f'T = {t}')\n",
    "    ax2.grid()\n",
    "    ax2.set_title(\"SABR IV\", fontsize=15)\n",
    "    ax2.set_xlabel(\"strike\", fontsize=12)\n",
    "    ax2.legend()\n",
    "None"
   ]
  },
  {
   "cell_type": "code",
   "execution_count": 14,
   "id": "723f2acd",
   "metadata": {},
   "outputs": [
    {
     "name": "stderr",
     "output_type": "stream",
     "text": [
      "100%|██████████| 60/60 [00:00<00:00, 65.43it/s]\n"
     ]
    },
    {
     "name": "stdout",
     "output_type": "stream",
     "text": [
      "0.022405036366403196\n"
     ]
    }
   ],
   "source": [
    "heston_calib = HestonCalibrator(interest_rate=r, n_dim=1, n_int=200)\n",
    "#calibrating sabr to heston\n",
    "fs = heston_calib.fit(cs, Kmesh, F, Tmesh, Niter=60, typ=True)\n",
    "\n",
    "#plot result\n",
    "plt.figure(figsize=(10, 5))\n",
    "plt.semilogy(fs, '-o')\n",
    "plt.title(\"Error\", fontsize=15)\n",
    "plt.xlabel(\"Niter\", fontsize=12)\n",
    "plt.grid()\n",
    "\n",
    "\n",
    "print(fs[-1])"
   ]
  },
  {
   "cell_type": "code",
   "execution_count": 15,
   "id": "c061b108",
   "metadata": {},
   "outputs": [
    {
     "name": "stdout",
     "output_type": "stream",
     "text": [
      "v_0:\t0.0410\n",
      "theta:\t4.7747\n",
      "rho:\t0.4361\n",
      "k:\t0.0067\n",
      "sigma:\t0.5957\n"
     ]
    }
   ],
   "source": [
    "names = [\"v_0\", \"theta\", \"rho\", \"k\", \"sigma\"] * (len(heston_calib.heston_params) // 5)\n",
    "\n",
    "for name, param in zip(names,heston_calib.heston_params):\n",
    "    print(f\"{name}:\\t{param:.4f}\")"
   ]
  },
  {
   "cell_type": "code",
   "execution_count": 16,
   "id": "04994205",
   "metadata": {},
   "outputs": [],
   "source": [
    "plt.figure(figsize=(20, 20))\n",
    "j = 0\n",
    "for t in Tn:\n",
    "    i = Tmesh == t\n",
    "    \n",
    "    c_predict, iv_predict = heston_calib.predict(Kmesh[i], F, t)\n",
    "    ax1 = plt.subplot(3, 2, 2 * j + 1)\n",
    "    ax1.plot(Kmesh[i], cs[i], label='SABR')\n",
    "    ax1.plot(Kmesh[i], c_predict, label='heston')\n",
    "    ax1.grid()\n",
    "    ax1.set_title(f\"Option price, T = {t}\", fontsize=15)\n",
    "    ax1.set_xlabel(\"strike\", fontsize=12)\n",
    "    ax1.legend()\n",
    "\n",
    "    ax2 = plt.subplot(3, 2, 2 * j + 2)\n",
    "    \n",
    "    ax2.plot(Kmesh[i], ivs[i], label='SABR')\n",
    "    ax2.plot(Kmesh[i], iv_predict, label='heston')\n",
    "    ax2.grid()\n",
    "    ax2.set_title(f\"IV, T = {t}\", fontsize=15)\n",
    "    ax2.set_xlabel(\"strike\", fontsize=12)\n",
    "    ax2.legend()\n",
    "    j += 1\n",
    "None"
   ]
  },
  {
   "cell_type": "code",
   "execution_count": null,
   "id": "40479e1c",
   "metadata": {},
   "outputs": [],
   "source": []
  }
 ],
 "metadata": {
  "kernelspec": {
   "display_name": "env",
   "language": "python",
   "name": "env"
  },
  "language_info": {
   "codemirror_mode": {
    "name": "ipython",
    "version": 3
   },
   "file_extension": ".py",
   "mimetype": "text/x-python",
   "name": "python",
   "nbconvert_exporter": "python",
   "pygments_lexer": "ipython3",
   "version": "3.8.12"
  },
  "toc": {
   "base_numbering": 1,
   "nav_menu": {},
   "number_sections": true,
   "sideBar": true,
   "skip_h1_title": false,
   "title_cell": "Table of Contents",
   "title_sidebar": "Contents",
   "toc_cell": false,
   "toc_position": {},
   "toc_section_display": true,
   "toc_window_display": false
  }
 },
 "nbformat": 4,
 "nbformat_minor": 5
}
